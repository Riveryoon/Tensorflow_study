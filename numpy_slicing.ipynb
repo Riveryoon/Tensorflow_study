{
 "cells": [
  {
   "cell_type": "code",
   "execution_count": 1,
   "metadata": {
    "collapsed": true
   },
   "outputs": [],
   "source": [
    "import numpy as np"
   ]
  },
  {
   "cell_type": "code",
   "execution_count": 2,
   "metadata": {},
   "outputs": [
    {
     "name": "stdout",
     "output_type": "stream",
     "text": [
      "b\n",
      " [[ 1  2  3  4]\n",
      " [ 5  6  7  8]\n",
      " [ 9 10 11 12]]\n",
      "b[:,1]\n",
      " [1 5 9]\n",
      "b[-1]\n",
      " [ 9 10 11 12]\n",
      "b[-1, :]\n",
      " [ 9 10 11 12]\n",
      "b[-1, :-1]\n",
      " [ 9 10 11]\n",
      "b[0:2, :]\n",
      " [[1 2 3 4]\n",
      " [5 6 7 8]]\n",
      "b[1:,:-1]\n",
      " [[ 5  6  7]\n",
      " [ 9 10 11]]\n"
     ]
    }
   ],
   "source": [
    "b = np.array([[1,2,3,4],[5,6,7,8],[9,10,11,12]])\n",
    "print(\"b\\n\",b)\n",
    "print(\"b[:,1]\\n\",b[:,0])\n",
    "print(\"b[-1]\\n\",b[-1])\n",
    "print(\"b[-1, :]\\n\",b[-1, :])\n",
    "print(\"b[-1, :-1]\\n\",b[-1, :-1])\n",
    "print(\"b[0:2, :]\\n\",b[0:2, :])\n",
    "print(\"b[1:,:-1]\\n\",b[1:,:-1])"
   ]
  },
  {
   "cell_type": "code",
   "execution_count": 7,
   "metadata": {},
   "outputs": [
    {
     "data": {
      "text/plain": [
       "array([[-1,  2,  3,  4],\n",
       "       [ 0,  6,  7,  8],\n",
       "       [ 1, 10, 11, 12]])"
      ]
     },
     "execution_count": 7,
     "metadata": {},
     "output_type": "execute_result"
    }
   ],
   "source": [
    "b_std = np.array(\n",
    "    [[1,2,3,4],\n",
    "     [5,6,7,8],\n",
    "     [9,10,11,12]])\n",
    "b_std[:,0] = (b[:,0] - b[:,0].mean()) / b[:,0].std()\n",
    "b_std"
   ]
  }
 ],
 "metadata": {
  "kernelspec": {
   "display_name": "tf-py3.5",
   "language": "python",
   "name": "tensorfllow"
  },
  "language_info": {
   "codemirror_mode": {
    "name": "ipython",
    "version": 3
   },
   "file_extension": ".py",
   "mimetype": "text/x-python",
   "name": "python",
   "nbconvert_exporter": "python",
   "pygments_lexer": "ipython3",
   "version": "3.5.4"
  }
 },
 "nbformat": 4,
 "nbformat_minor": 2
}
