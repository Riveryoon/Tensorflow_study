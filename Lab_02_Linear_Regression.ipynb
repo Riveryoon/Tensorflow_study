{
 "cells": [
  {
   "cell_type": "code",
   "execution_count": 1,
   "metadata": {
    "collapsed": true
   },
   "outputs": [],
   "source": [
    "import tensorflow as tf"
   ]
  },
  {
   "cell_type": "code",
   "execution_count": 2,
   "metadata": {},
   "outputs": [
    {
     "data": {
      "text/plain": [
       "'1.2.0'"
      ]
     },
     "execution_count": 2,
     "metadata": {},
     "output_type": "execute_result"
    }
   ],
   "source": [
    "tf.__version__"
   ]
  },
  {
   "cell_type": "code",
   "execution_count": 3,
   "metadata": {},
   "outputs": [
    {
     "name": "stdout",
     "output_type": "stream",
     "text": [
      "b'Hello, Tensorflow!'\n"
     ]
    }
   ],
   "source": [
    "hello = tf.constant(\"Hello, Tensorflow!\")\n",
    "\n",
    "sess = tf.Session()\n",
    "\n",
    "print(sess.run(hello))"
   ]
  },
  {
   "cell_type": "markdown",
   "metadata": {},
   "source": [
    "## computational graph ##"
   ]
  },
  {
   "cell_type": "code",
   "execution_count": 4,
   "metadata": {
    "collapsed": true
   },
   "outputs": [],
   "source": [
    "node1 = tf.constant(3., tf.float32)\n",
    "node2 = tf.constant(4.0)\n",
    "\n",
    "node3 = tf.add(node1,node2)"
   ]
  },
  {
   "cell_type": "code",
   "execution_count": 5,
   "metadata": {},
   "outputs": [
    {
     "name": "stdout",
     "output_type": "stream",
     "text": [
      "Tensor(\"Const_1:0\", shape=(), dtype=float32) Tensor(\"Const_2:0\", shape=(), dtype=float32) Tensor(\"Add:0\", shape=(), dtype=float32)\n"
     ]
    }
   ],
   "source": [
    "print(node1,node2,node3)"
   ]
  },
  {
   "cell_type": "code",
   "execution_count": 8,
   "metadata": {},
   "outputs": [
    {
     "name": "stdout",
     "output_type": "stream",
     "text": [
      "[3.0, 4.0]\n",
      "7.0\n"
     ]
    }
   ],
   "source": [
    "sess = tf.Session()\n",
    "print(sess.run([node1,node2]))\n",
    "print(sess.run(node3))"
   ]
  },
  {
   "cell_type": "markdown",
   "metadata": {},
   "source": [
    "## Placeholder ##"
   ]
  },
  {
   "cell_type": "code",
   "execution_count": 9,
   "metadata": {},
   "outputs": [
    {
     "name": "stdout",
     "output_type": "stream",
     "text": [
      "7.5\n",
      "[  3.  11.]\n"
     ]
    }
   ],
   "source": [
    "a = tf.placeholder(tf.float32)\n",
    "b = tf.placeholder(tf.float32)\n",
    "\n",
    "adder_node = a + b \n",
    "print(sess.run(adder_node, feed_dict={a:3, b:4.5}))\n",
    "print(sess.run(adder_node, feed_dict={a:[1,3], b:[2,8]})) #a와b의 같은 index에 있는 것 끼리 adder_node 연산을 함\n",
    "\n",
    "#what is tensor?\n",
    "#텐서란 사실상 다차원 행렬이다"
   ]
  },
  {
   "cell_type": "markdown",
   "metadata": {},
   "source": [
    "## Linear Regression##"
   ]
  },
  {
   "cell_type": "code",
   "execution_count": 10,
   "metadata": {
    "collapsed": true
   },
   "outputs": [],
   "source": [
    "# H(x) = Wx + b\n",
    "x_train = [1,2,3]\n",
    "y_train = [1,2,3]\n",
    "\n",
    "W = tf.Variable(tf.random_normal([1]),name='weight')#trainiable varible\n",
    "b = tf.Variable(tf.random_normal([1]),name='bias')\n",
    "\n",
    "hypothesis = x_train * W + b"
   ]
  },
  {
   "cell_type": "code",
   "execution_count": 11,
   "metadata": {
    "collapsed": true
   },
   "outputs": [],
   "source": [
    "cost = tf.reduce_mean(tf.square(hypothesis - y_train)) #reduce_mean 은 값들을 평균내는것"
   ]
  },
  {
   "cell_type": "code",
   "execution_count": 12,
   "metadata": {
    "collapsed": true
   },
   "outputs": [],
   "source": [
    "optimizer = tf.train.GradientDescentOptimizer(learning_rate=0.01)\n",
    "train = optimizer.minimize(cost)"
   ]
  },
  {
   "cell_type": "code",
   "execution_count": 14,
   "metadata": {
    "scrolled": true
   },
   "outputs": [
    {
     "name": "stdout",
     "output_type": "stream",
     "text": [
      "0 15.8728 [-0.59396088] [-0.57758379]\n",
      "20 0.145298 [ 0.80914605] [ 0.03383651]\n",
      "40 0.00257382 [ 0.94458538] [ 0.08788069]\n",
      "60 0.00116445 [ 0.95923209] [ 0.08904812]\n",
      "80 0.00104693 [ 0.9622947] [ 0.08536765]\n",
      "100 0.000950746 [ 0.96417582] [ 0.08140373]\n",
      "120 0.000863483 [ 0.9658699] [ 0.07758263]\n",
      "140 0.000784232 [ 0.96747488] [ 0.07393696]\n",
      "160 0.000712254 [ 0.96900338] [ 0.07046227]\n",
      "180 0.000646879 [ 0.97046024] [ 0.06715088]\n",
      "200 0.000587506 [ 0.97184849] [ 0.063995]\n",
      "220 0.000533582 [ 0.97317147] [ 0.06098749]\n",
      "240 0.00048461 [ 0.97443235] [ 0.0581213]\n",
      "260 0.000440127 [ 0.97563392] [ 0.05538981]\n",
      "280 0.000399731 [ 0.97677904] [ 0.05278669]\n",
      "300 0.000363044 [ 0.9778704] [ 0.0503059]\n",
      "320 0.000329723 [ 0.97891039] [ 0.04794172]\n",
      "340 0.00029946 [ 0.97990149] [ 0.04568865]\n",
      "360 0.000271971 [ 0.98084611] [ 0.04354141]\n",
      "380 0.00024701 [ 0.98174626] [ 0.04149511]\n",
      "400 0.000224339 [ 0.98260403] [ 0.039545]\n",
      "420 0.000203746 [ 0.98342162] [ 0.03768654]\n",
      "440 0.000185046 [ 0.98420072] [ 0.03591542]\n",
      "460 0.000168062 [ 0.98494327] [ 0.03422753]\n",
      "480 0.000152636 [ 0.98565084] [ 0.03261896]\n",
      "500 0.000138629 [ 0.9863252] [ 0.031086]\n",
      "520 0.000125903 [ 0.98696786] [ 0.02962507]\n",
      "540 0.000114346 [ 0.98758036] [ 0.0282328]\n",
      "560 0.000103852 [ 0.98816401] [ 0.02690597]\n",
      "580 9.43215e-05 [ 0.98872018] [ 0.02564151]\n",
      "600 8.56635e-05 [ 0.98925042] [ 0.02443647]\n",
      "620 7.78024e-05 [ 0.98975533] [ 0.0232881]\n",
      "640 7.06606e-05 [ 0.990237] [ 0.02219371]\n",
      "660 6.41762e-05 [ 0.99069583] [ 0.02115065]\n",
      "680 5.82852e-05 [ 0.99113303] [ 0.02015663]\n",
      "700 5.29345e-05 [ 0.99154979] [ 0.01920934]\n",
      "720 4.80762e-05 [ 0.99194694] [ 0.01830655]\n",
      "740 4.36634e-05 [ 0.99232537] [ 0.01744619]\n",
      "760 3.96556e-05 [ 0.99268609] [ 0.01662627]\n",
      "780 3.60166e-05 [ 0.99302983] [ 0.0158449]\n",
      "800 3.27112e-05 [ 0.99335736] [ 0.01510026]\n",
      "820 2.9708e-05 [ 0.99366957] [ 0.01439061]\n",
      "840 2.69816e-05 [ 0.99396706] [ 0.0137143]\n",
      "860 2.45048e-05 [ 0.99425054] [ 0.01306977]\n",
      "880 2.22559e-05 [ 0.99452078] [ 0.01245555]\n",
      "900 2.02133e-05 [ 0.99477828] [ 0.01187021]\n",
      "920 1.83582e-05 [ 0.99502373] [ 0.01131232]\n",
      "940 1.66731e-05 [ 0.99525762] [ 0.01078066]\n",
      "960 1.51428e-05 [ 0.99548048] [ 0.01027399]\n",
      "980 1.3753e-05 [ 0.99569291] [ 0.00979114]\n",
      "1000 1.24906e-05 [ 0.99589527] [ 0.00933097]\n",
      "1020 1.13439e-05 [ 0.99608821] [ 0.00889245]\n",
      "1040 1.03027e-05 [ 0.99627203] [ 0.00847455]\n",
      "1060 9.35712e-06 [ 0.99644721] [ 0.00807629]\n",
      "1080 8.49843e-06 [ 0.99661422] [ 0.00769673]\n",
      "1100 7.71833e-06 [ 0.9967733] [ 0.007335]\n",
      "1120 7.00981e-06 [ 0.996925] [ 0.00699027]\n",
      "1140 6.36641e-06 [ 0.99706948] [ 0.00666175]\n",
      "1160 5.78231e-06 [ 0.99720716] [ 0.00634868]\n",
      "1180 5.25132e-06 [ 0.99733847] [ 0.00605033]\n",
      "1200 4.76945e-06 [ 0.99746352] [ 0.00576597]\n",
      "1220 4.33152e-06 [ 0.99758273] [ 0.005495]\n",
      "1240 3.93413e-06 [ 0.99769634] [ 0.00523676]\n",
      "1260 3.57315e-06 [ 0.99780458] [ 0.00499065]\n",
      "1280 3.24486e-06 [ 0.99790776] [ 0.00475613]\n",
      "1300 2.9472e-06 [ 0.99800611] [ 0.00453262]\n",
      "1320 2.67681e-06 [ 0.9980998] [ 0.00431961]\n",
      "1340 2.43108e-06 [ 0.99818909] [ 0.0041166]\n",
      "1360 2.20782e-06 [ 0.99827415] [ 0.00392316]\n",
      "1380 2.00531e-06 [ 0.99835533] [ 0.0037388]\n",
      "1400 1.82127e-06 [ 0.99843258] [ 0.0035631]\n",
      "1420 1.65419e-06 [ 0.99850625] [ 0.00339566]\n",
      "1440 1.50234e-06 [ 0.99857646] [ 0.00323609]\n",
      "1460 1.36452e-06 [ 0.99864334] [ 0.00308401]\n",
      "1480 1.23928e-06 [ 0.99870706] [ 0.00293907]\n",
      "1500 1.1256e-06 [ 0.99876779] [ 0.00280097]\n",
      "1520 1.0223e-06 [ 0.99882573] [ 0.00266937]\n",
      "1540 9.28402e-07 [ 0.99888086] [ 0.00254394]\n",
      "1560 8.43196e-07 [ 0.99893349] [ 0.0024244]\n",
      "1580 7.65833e-07 [ 0.99898362] [ 0.00231046]\n",
      "1600 6.95588e-07 [ 0.99903131] [ 0.00220188]\n",
      "1620 6.31747e-07 [ 0.99907684] [ 0.00209843]\n",
      "1640 5.73747e-07 [ 0.99912024] [ 0.00199987]\n",
      "1660 5.21032e-07 [ 0.99916154] [ 0.0019059]\n",
      "1680 4.73301e-07 [ 0.99920088] [ 0.00181636]\n",
      "1700 4.29842e-07 [ 0.99923849] [ 0.00173104]\n",
      "1720 3.90466e-07 [ 0.99927425] [ 0.00164971]\n",
      "1740 3.54648e-07 [ 0.99930835] [ 0.0015722]\n",
      "1760 3.22123e-07 [ 0.99934089] [ 0.00149833]\n",
      "1780 2.92567e-07 [ 0.99937177] [ 0.00142796]\n",
      "1800 2.65669e-07 [ 0.99940121] [ 0.00136091]\n",
      "1820 2.41304e-07 [ 0.99942935] [ 0.00129701]\n",
      "1840 2.19216e-07 [ 0.99945611] [ 0.00123611]\n",
      "1860 1.99094e-07 [ 0.99948168] [ 0.00117807]\n",
      "1880 1.80839e-07 [ 0.999506] [ 0.00112274]\n",
      "1900 1.64215e-07 [ 0.99952918] [ 0.00107002]\n",
      "1920 1.49183e-07 [ 0.9995513] [ 0.00101977]\n",
      "1940 1.35508e-07 [ 0.9995724] [ 0.00097188]\n",
      "1960 1.23078e-07 [ 0.99959254] [ 0.00092625]\n",
      "1980 1.11778e-07 [ 0.99961162] [ 0.0008828]\n",
      "2000 1.01568e-07 [ 0.99962974] [ 0.00084137]\n"
     ]
    }
   ],
   "source": [
    "sess = tf.Session()\n",
    "sess.run(tf.global_variables_initializer())\n",
    "\n",
    "for step in range(2001):\n",
    "    sess.run(train)\n",
    "    if step % 20 == 0:\n",
    "        print(step, sess.run(cost), sess.run(W), sess.run(b))"
   ]
  },
  {
   "cell_type": "code",
   "execution_count": 21,
   "metadata": {
    "scrolled": true
   },
   "outputs": [
    {
     "name": "stdout",
     "output_type": "stream",
     "text": [
      "0 0.185404 [ 0.99718261] [ 0.61746019]\n",
      "200 4.65187 [ 1.75889492] [ 0.54808873]\n",
      "400 4.6473 [ 1.85101151] [ 0.33868578]\n",
      "600 4.65079 [ 1.90793419] [ 0.2092873]\n",
      "800 4.65537 [ 1.94310892] [ 0.12932706]\n",
      "1000 4.65912 [ 1.9648447] [ 0.07991635]\n",
      "1200 4.66178 [ 1.97827601] [ 0.04938345]\n",
      "1400 4.66357 [ 1.98657608] [ 0.03051568]\n",
      "1600 4.66472 [ 1.99170494] [ 0.01885693]\n",
      "1800 4.66545 [ 1.99487412] [ 0.01165243]\n",
      "2000 4.66591 [ 1.99683237] [ 0.00720056]\n"
     ]
    },
    {
     "data": {
      "text/plain": [
       "array([ 4.00086546], dtype=float32)"
      ]
     },
     "execution_count": 21,
     "metadata": {},
     "output_type": "execute_result"
    }
   ],
   "source": [
    "X = tf.placeholder(tf.float32, shape=[None]) # None의 의미? 이 차원에서 몇개를 넣을지는 미결정이다 \n",
    "Y = tf.placeholder(tf.float32, shape=[None])\n",
    "\n",
    "hypothesis_2 = X * W + b\n",
    "\n",
    "cost_2 = tf.reduce_mean(tf.square(hypothesis - Y)) #reduce_mean 은 값들을 평균내는것\n",
    "\n",
    "optimizer = tf.train.GradientDescentOptimizer(learning_rate=0.01)\n",
    "train_2 = optimizer.minimize(cost_2)\n",
    "\n",
    "sess = tf.Session()\n",
    "sess.run(tf.global_variables_initializer())\n",
    "\n",
    "for step in range(2001):\n",
    "    cost_val, W_val, b_val, _ = sess.run([cost,W,b,train_2], feed_dict={X:[1,2,3] , Y:[2,4,6]})\n",
    "    if step % 200 == 0:\n",
    "        print(step, cost_val, W_val, b_val)\n",
    "        \n",
    "sess.run(hypothesis_2,feed_dict={X:[2]})"
   ]
  }
 ],
 "metadata": {
  "kernelspec": {
   "display_name": "tf-py3.5",
   "language": "python",
   "name": "tensorfllow"
  },
  "language_info": {
   "codemirror_mode": {
    "name": "ipython",
    "version": 3
   },
   "file_extension": ".py",
   "mimetype": "text/x-python",
   "name": "python",
   "nbconvert_exporter": "python",
   "pygments_lexer": "ipython3",
   "version": "3.5.4"
  }
 },
 "nbformat": 4,
 "nbformat_minor": 2
}
