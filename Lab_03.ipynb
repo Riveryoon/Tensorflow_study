{
 "cells": [
  {
   "cell_type": "code",
   "execution_count": 1,
   "metadata": {
    "collapsed": true
   },
   "outputs": [],
   "source": [
    "import tensorflow as tf"
   ]
  },
  {
   "cell_type": "code",
   "execution_count": 2,
   "metadata": {
    "collapsed": true
   },
   "outputs": [],
   "source": [
    "X = [1,2,3]\n",
    "Y = [1,2,3]\n",
    "\n",
    "W = tf.placeholder(tf.float32)\n",
    "hypothesis = X * W"
   ]
  },
  {
   "cell_type": "code",
   "execution_count": 4,
   "metadata": {},
   "outputs": [],
   "source": [
    "cost = tf.reduce_mean(tf.square(hypothesis - Y))\n",
    "sess = tf.Session()\n",
    "sess.run(tf.global_variables_initializer())"
   ]
  },
  {
   "cell_type": "code",
   "execution_count": 5,
   "metadata": {
    "collapsed": true
   },
   "outputs": [],
   "source": [
    "W_val = []\n",
    "cost_val = []\n",
    "\n",
    "for i in range(-30,50):\n",
    "    feed_W = i * 0.1\n",
    "    curr_cost, curr_W = sess.run([cost,W], feed_dict={W : feed_W})\n",
    "    W_val.append(curr_W)\n",
    "    cost_val.append(curr_cost)"
   ]
  },
  {
   "cell_type": "code",
   "execution_count": 6,
   "metadata": {},
   "outputs": [
    {
     "name": "stderr",
     "output_type": "stream",
     "text": [
      "/home/river0726/anaconda3/envs/tf/lib/python3.5/site-packages/matplotlib/font_manager.py:279: UserWarning: Matplotlib is building the font cache using fc-list. This may take a moment.\n",
      "  'Matplotlib is building the font cache using fc-list. '\n"
     ]
    },
    {
     "data": {
      "image/png": "[encoded data removed]",
      "text/plain": [
       "<matplotlib.figure.Figure at 0x7f4452e2c470>"
      ]
     },
     "metadata": {},
     "output_type": "display_data"
    }
   ],
   "source": [
    "import matplotlib.pyplot as plt\n",
    "\n",
    "plt.plot(W_val,cost_val)\n",
    "plt.show()"
   ]
  },
  {
   "cell_type": "markdown",
   "metadata": {},
   "source": [
    "## own optimizer ##"
   ]
  },
  {
   "cell_type": "code",
   "execution_count": 9,
   "metadata": {},
   "outputs": [],
   "source": [
    "W = tf.Variable(tf.random_normal([1]), name = 'weight')\n",
    "X = tf.placeholder(tf.float32)\n",
    "Y = tf.placeholder(tf.float32)\n",
    "\n",
    "hypothesis = X * W\n",
    "\n",
    "cost = tf.reduce_mean(tf.square(hypothesis - Y))\n",
    "\n",
    "learning_rate = 0.1\n",
    "gradient = tf.reduce_mean((W*X - Y)*X)\n",
    "descent = W - learning_rate * gradient\n",
    "update = W.assign(descent)\n",
    "# 이 부분은 tensorflow 의 gradient descent optimizer 함수를 쓸 수 있음"
   ]
  },
  {
   "cell_type": "code",
   "execution_count": 11,
   "metadata": {
    "scrolled": true
   },
   "outputs": [
    {
     "name": "stdout",
     "output_type": "stream",
     "text": [
      "0 4.06742 [ 0.06640977]\n",
      "1 1.15696 [ 0.50208521]\n",
      "2 0.32909 [ 0.73444545]\n",
      "3 0.0936077 [ 0.8583709]\n",
      "4 0.0266262 [ 0.92446446]\n",
      "5 0.00757369 [ 0.95971435]\n",
      "6 0.00215429 [ 0.97851431]\n",
      "7 0.000612778 [ 0.98854095]\n",
      "8 0.000174301 [ 0.9938885]\n",
      "9 4.958e-05 [ 0.99674052]\n",
      "10 1.41025e-05 [ 0.99826163]\n",
      "11 4.01139e-06 [ 0.99907285]\n",
      "12 1.14105e-06 [ 0.99950552]\n",
      "13 3.24665e-07 [ 0.99973625]\n",
      "14 9.23402e-08 [ 0.99985933]\n",
      "15 2.62706e-08 [ 0.99992496]\n",
      "16 7.48696e-09 [ 0.99995995]\n",
      "17 2.11979e-09 [ 0.99997866]\n",
      "18 6.03475e-10 [ 0.99998862]\n",
      "19 1.71047e-10 [ 0.99999392]\n",
      "20 4.97629e-11 [ 0.99999672]\n"
     ]
    }
   ],
   "source": [
    "sess = tf.Session()\n",
    "sess.run(tf.global_variables_initializer())\n",
    "for step in range(21):\n",
    "    sess.run(update, feed_dict= {X:[1,2,3], Y:[1,2,3]})\n",
    "    print(step, sess.run(cost, feed_dict={X:[1,2,3,], Y:[1,2,3,]}), sess.run(W))"
   ]
  },
  {
   "cell_type": "markdown",
   "metadata": {},
   "source": [
    "## check inside of tensorflow optimizer##"
   ]
  },
  {
   "cell_type": "code",
   "execution_count": 27,
   "metadata": {
    "scrolled": true
   },
   "outputs": [
    {
     "name": "stdout",
     "output_type": "stream",
     "text": [
      "0 37.3333 5.0 [(37.333336, 5.0)]\n",
      "1 33.8489 4.62667 [(33.848888, 4.6266665)]\n",
      "2 30.6897 4.28818 [(30.689657, 4.2881775)]\n",
      "3 27.8253 3.98128 [(27.825287, 3.9812808)]\n",
      "4 25.2283 3.70303 [(25.228264, 3.703028)]\n",
      "5 22.8736 3.45075 [(22.873623, 3.4507453)]\n",
      "6 20.7388 3.22201 [(20.738752, 3.2220092)]\n",
      "7 18.8031 3.01462 [(18.803137, 3.0146217)]\n",
      "8 17.0482 2.82659 [(17.048176, 2.8265903)]\n",
      "9 15.457 2.65611 [(15.457014, 2.6561086)]\n",
      "10 14.0144 2.50154 [(14.01436, 2.5015385)]\n",
      "11 12.7064 2.36139 [(12.706352, 2.3613949)]\n",
      "12 11.5204 2.23433 [(11.520427, 2.2343314)]\n",
      "13 10.4452 2.11913 [(10.445186, 2.119127)]\n",
      "14 9.4703 2.01468 [(9.4703016, 2.0146751)]\n",
      "15 8.58641 1.91997 [(8.5864067, 1.9199722)]\n",
      "16 7.78501 1.83411 [(7.7850089, 1.8341081)]\n",
      "17 7.05841 1.75626 [(7.0584083, 1.756258)]\n",
      "18 6.39962 1.68567 [(6.3996239, 1.685674)]\n",
      "19 5.80233 1.62168 [(5.8023257, 1.6216778)]\n",
      "20 5.26078 1.56365 [(5.260776, 1.5636545)]\n",
      "21 4.76977 1.51105 [(4.7697697, 1.5110468)]\n",
      "22 4.32459 1.46335 [(4.3245912, 1.4633491)]\n",
      "23 3.92096 1.4201 [(3.9209635, 1.4201032)]\n",
      "24 3.55501 1.38089 [(3.5550067, 1.3808936)]\n",
      "25 3.22321 1.34534 [(3.2232056, 1.3453435)]\n",
      "26 2.92237 1.31311 [(2.9223738, 1.3131114)]\n",
      "27 2.64962 1.28389 [(2.6496186, 1.2838877)]\n",
      "28 2.40232 1.25739 [(2.4023218, 1.2573916)]\n",
      "29 2.17811 1.23337 [(2.1781051, 1.2333684)]\n",
      "30 1.97481 1.21159 [(1.9748147, 1.2115873)]\n",
      "31 1.7905 1.19184 [(1.7904994, 1.1918392)]\n",
      "32 1.62339 1.17393 [(1.6233861, 1.1739342)]\n",
      "33 1.47187 1.1577 [(1.4718695, 1.1577003)]\n",
      "34 1.3345 1.14298 [(1.3344957, 1.1429816)]\n",
      "35 1.20994 1.12964 [(1.2099419, 1.1296366)]\n",
      "36 1.09701 1.11754 [(1.0970144, 1.1175373)]\n",
      "37 0.994627 1.10657 [(0.9946267, 1.1065671)]\n",
      "38 0.901795 1.09662 [(0.90179503, 1.0966209)]\n",
      "39 0.817627 1.0876 [(0.81762755, 1.087603)]\n",
      "40 0.741315 1.07943 [(0.74131513, 1.0794266)]\n",
      "41 0.672126 1.07201 [(0.67212629, 1.0720135)]\n",
      "42 0.609394 1.06529 [(0.60939401, 1.0652922)]\n",
      "43 0.552517 1.0592 [(0.55251688, 1.0591983)]\n",
      "44 0.500949 1.05367 [(0.50094914, 1.0536731)]\n",
      "45 0.454194 1.04866 [(0.45419377, 1.0486636)]\n",
      "46 0.411802 1.04412 [(0.41180158, 1.0441216)]\n",
      "47 0.373367 1.04 [(0.37336725, 1.0400037)]\n",
      "48 0.33852 1.03627 [(0.33851999, 1.03627)]\n",
      "49 0.306925 1.03288 [(0.30692515, 1.0328848)]\n",
      "50 0.278278 1.02982 [(0.27827829, 1.0298156)]\n",
      "51 0.252305 1.02703 [(0.25230527, 1.0270327)]\n",
      "52 0.228757 1.02451 [(0.2287569, 1.0245097)]\n",
      "53 0.207406 1.02222 [(0.20740573, 1.022222)]\n",
      "54 0.188048 1.02015 [(0.18804836, 1.020148)]\n",
      "55 0.170497 1.01827 [(0.17049655, 1.0182675)]\n",
      "56 0.154584 1.01656 [(0.15458435, 1.0165626)]\n",
      "57 0.140157 1.01502 [(0.14015675, 1.0150168)]\n",
      "58 0.127076 1.01362 [(0.12707591, 1.0136153)]\n",
      "59 0.115215 1.01234 [(0.11521538, 1.0123445)]\n",
      "60 0.104462 1.01119 [(0.10446167, 1.0111923)]\n",
      "61 0.094712 1.01015 [(0.094712019, 1.0101477)]\n",
      "62 0.085872 1.0092 [(0.085872017, 1.0092006)]\n",
      "63 0.0778581 1.00834 [(0.077858053, 1.0083419)]\n",
      "64 0.0705913 1.00756 [(0.070591293, 1.0075634)]\n",
      "65 0.0640024 1.00686 [(0.064002357, 1.0068574)]\n",
      "66 0.0580285 1.00622 [(0.05802846, 1.0062174)]\n",
      "67 0.0526122 1.00564 [(0.052612226, 1.005637)]\n",
      "68 0.0477025 1.00511 [(0.047702473, 1.005111)]\n",
      "69 0.0432498 1.00463 [(0.043249767, 1.0046339)]\n",
      "70 0.0392132 1.0042 [(0.039213181, 1.0042014)]\n",
      "71 0.0355535 1.00381 [(0.035553537, 1.0038093)]\n",
      "72 0.0322362 1.00345 [(0.032236181, 1.0034539)]\n",
      "73 0.0292277 1.00313 [(0.029227655, 1.0031315)]\n",
      "74 0.0264995 1.00284 [(0.02649951, 1.0028392)]\n",
      "75 0.0240259 1.00257 [(0.024025917, 1.0025742)]\n",
      "76 0.0217837 1.00233 [(0.021783751, 1.002334)]\n",
      "77 0.0197512 1.00212 [(0.019751232, 1.0021162)]\n",
      "78 0.0179074 1.00192 [(0.017907381, 1.0019187)]\n",
      "79 0.0162367 1.00174 [(0.016236704, 1.0017396)]\n",
      "80 0.0147208 1.00158 [(0.014720838, 1.0015773)]\n",
      "81 0.013347 1.00143 [(0.013346991, 1.00143)]\n",
      "82 0.0121009 1.0013 [(0.012100856, 1.0012965)]\n",
      "83 0.0109718 1.00118 [(0.010971785, 1.0011755)]\n",
      "84 0.00994817 1.00107 [(0.0099481754, 1.0010659)]\n",
      "85 0.0090189 1.00097 [(0.009018898, 1.0009663)]\n",
      "86 0.00817688 1.00088 [(0.0081768837, 1.0008761)]\n",
      "87 0.00741315 1.00079 [(0.0074131489, 1.0007943)]\n",
      "88 0.00672158 1.00072 [(0.0067215762, 1.0007201)]\n",
      "89 0.00609406 1.00065 [(0.0060940585, 1.0006529)]\n",
      "90 0.00552527 1.00059 [(0.0055252714, 1.000592)]\n",
      "91 0.00500989 1.00054 [(0.0050098896, 1.0005368)]\n",
      "92 0.00454259 1.00049 [(0.0045425892, 1.0004867)]\n",
      "93 0.00411892 1.00044 [(0.0041189194, 1.0004413)]\n",
      "94 0.00373395 1.0004 [(0.003733953, 1.0004001)]\n",
      "95 0.00338546 1.00036 [(0.0033854644, 1.0003628)]\n",
      "96 0.00306948 1.00033 [(0.0030694804, 1.0003289)]\n",
      "97 0.00278378 1.0003 [(0.0027837753, 1.0002983)]\n",
      "98 0.00252342 1.00027 [(0.0025234222, 1.0002704)]\n",
      "99 0.00228755 1.00025 [(0.0022875469, 1.0002451)]\n"
     ]
    }
   ],
   "source": [
    "W = tf.Variable(5.)\n",
    "X = [1,2,3]\n",
    "Y = [1,2,3]\n",
    "\n",
    "hypothesis = X * W\n",
    "\n",
    "gradient = tf.reduce_mean((W*X - Y)*X) * 2\n",
    "\n",
    "cost = tf.reduce_mean(tf.square(hypothesis - Y))\n",
    "optimizer = tf.train.GradientDescentOptimizer(learning_rate = 0.01)\n",
    "\n",
    "gvs = optimizer.compute_gradients(cost,[W])\n",
    "apply_gradient = optimizer.apply_gradients(gvs)\n",
    "\n",
    "sess = tf.Session()\n",
    "sess.run(tf.global_variables_initializer())\n",
    "for step in range(100):\n",
    "    print(step, sess.run(gradient), sess.run(W), sess.run(gvs))\n",
    "    sess.run(apply_gradient)\n",
    "    "
   ]
  }
 ],
 "metadata": {
  "kernelspec": {
   "display_name": "tf-py3.5",
   "language": "python",
   "name": "tensorfllow"
  },
  "language_info": {
   "codemirror_mode": {
    "name": "ipython",
    "version": 3
   },
   "file_extension": ".py",
   "mimetype": "text/x-python",
   "name": "python",
   "nbconvert_exporter": "python",
   "pygments_lexer": "ipython3",
   "version": "3.5.4"
  }
 },
 "nbformat": 4,
 "nbformat_minor": 2
}
