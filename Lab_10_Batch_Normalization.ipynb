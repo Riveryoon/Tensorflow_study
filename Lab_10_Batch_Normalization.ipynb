{
 "cells": [
  {
   "cell_type": "code",
   "execution_count": null,
   "metadata": {
    "collapsed": true
   },
   "outputs": [],
   "source": [
    "# Lab: Batchnormalization Layer\n",
    "\n",
    "## What is a batchnormalization layer?\n",
    "It is a layer that normalize the output before the activation layer. [The original paper](https://arxiv.org/abs/1502.03167) was proposed by Sergey Ioffe in 2015.\n",
    "\n",
    "Batch Normalization Layer looks like this: ![bn](https://kratzert.github.io/images/bn_backpass/bn_algorithm.PNG)\n",
    "\n",
    "## Why batchnormalization?\n",
    "The distribution of each layer's input changes because the weights of the previous layer change as we update weights by the gradient descent. This is called a covariance shift, which makes the network training difficult.\n",
    "\n",
    "For example, if the activation layer is a relu layer and the input of the activation layer is shifted to less than zeros, no weights will be activated!\n",
    "\n",
    "One thing also worth mentioning is that $\\gamma$ and $\\beta$ parameters in $$ y = \\gamma \\hat{x} + \\beta $$ are also trainable. \n",
    "\n",
    "**What it means is that if we don't need the batchnormalization, its parameters will be updated such that it offsets the normalization step.**\n",
    "\n",
    "For example, assume that\n",
    "\n",
    "\\begin{align}\n",
    "\\gamma &= \\sqrt{\\sigma^2_B + \\epsilon}\\\\\n",
    "\\beta &= \\mu_B\n",
    "\\end{align}\n",
    "\n",
    "then\n",
    "\n",
    "$$ y_i = \\gamma \\hat{x_i} + \\beta = x_i $$\n",
    "\n",
    "Also note that $\\mu$ and $\\sigma$ are computed using moving averages during the training step. However, during the test time, the computed $\\mu$ and $\\sigma$ will be used as fixed\n",
    "\n",
    "## Conclusion\n",
    "- Always use the batch normalization!"
   ]
  }
 ],
 "metadata": {
  "kernelspec": {
   "display_name": "tf-py3.5",
   "language": "python",
   "name": "tensorfllow"
  },
  "language_info": {
   "codemirror_mode": {
    "name": "ipython",
    "version": 3
   },
   "file_extension": ".py",
   "mimetype": "text/x-python",
   "name": "python",
   "nbconvert_exporter": "python",
   "pygments_lexer": "ipython3",
   "version": "3.5.4"
  }
 },
 "nbformat": 4,
 "nbformat_minor": 2
}
