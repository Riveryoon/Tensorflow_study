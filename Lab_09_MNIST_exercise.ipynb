{
 "cells": [
  {
   "cell_type": "code",
   "execution_count": 1,
   "metadata": {
    "collapsed": true
   },
   "outputs": [],
   "source": [
    "import tensorflow as tf\n",
    "import numpy as np\n",
    "from tensorflow.examples.tutorials.mnist import input_data\n",
    "import random\n",
    "import matplotlib.pyplot as plt"
   ]
  },
  {
   "cell_type": "code",
   "execution_count": 2,
   "metadata": {},
   "outputs": [
    {
     "name": "stdout",
     "output_type": "stream",
     "text": [
      "Extracting MNIST_data/train-images-idx3-ubyte.gz\n",
      "Extracting MNIST_data/train-labels-idx1-ubyte.gz\n",
      "Extracting MNIST_data/t10k-images-idx3-ubyte.gz\n",
      "Extracting MNIST_data/t10k-labels-idx1-ubyte.gz\n"
     ]
    }
   ],
   "source": [
    "# Check out https://www.tensorflow.org/get_started/mnist/beginners for\n",
    "# more information about the mnist dataset\n",
    "mnist = input_data.read_data_sets(\"MNIST_data/\", one_hot=True)\n",
    "nb_classes = 10\n",
    "\n",
    "# MNIST data image of shape 28 * 28 = 784\n",
    "X = tf.placeholder(tf.float32, [None, 784])\n",
    "# 0 - 9 digits recognition = 10 classes\n",
    "Y = tf.placeholder(tf.float32, [None, nb_classes])"
   ]
  },
  {
   "cell_type": "code",
   "execution_count": 3,
   "metadata": {
    "collapsed": true
   },
   "outputs": [],
   "source": [
    "with tf.name_scope(\"layer1\") as scope:\n",
    "    W1 = tf.Variable(tf.random_normal([784, 392]), name='weight1')\n",
    "    b1 = tf.Variable(tf.random_normal([392]), name='bias1')\n",
    "    layer1 = tf.sigmoid(tf.matmul(X, W1) + b1)\n",
    "\n",
    "with tf.name_scope(\"layer2\") as scope:\n",
    "    W2 = tf.Variable(tf.random_normal([392, 196]), name='weight2')\n",
    "    b2 = tf.Variable(tf.random_normal([196]), name='bias2')\n",
    "    layer2 = tf.sigmoid(tf.matmul(layer1, W2) + b2)\n",
    "\n",
    "with tf.name_scope(\"layer3\") as scope:\n",
    "    W3 = tf.Variable(tf.random_normal([196, 84]), name='weight3')\n",
    "    b3 = tf.Variable(tf.random_normal([84]), name='bias3')\n",
    "    layer3 = tf.sigmoid(tf.matmul(layer2, W3) + b3)\n",
    "    \n",
    "with tf.name_scope(\"layer4\") as scope:\n",
    "    W4 = tf.Variable(tf.random_normal([84, nb_classes]), name='weight4')\n",
    "    b4 = tf.Variable(tf.random_normal([nb_classes]), name='bias4')\n",
    "    hypothesis = tf.sigmoid(tf.matmul(layer3, W4) + b4)"
   ]
  },
  {
   "cell_type": "code",
   "execution_count": 4,
   "metadata": {
    "collapsed": true
   },
   "outputs": [],
   "source": [
    "# cost/loss function\n",
    "with tf.name_scope(\"cost\") as scope:\n",
    "    cost = -tf.reduce_mean(Y * tf.log(hypothesis) + (1 - Y) *\n",
    "                           tf.log(1 - hypothesis))\n",
    "    cost_summ = tf.summary.scalar(\"cost\", cost)\n",
    "\n",
    "learning_rate = 0.01\n",
    "with tf.name_scope(\"train\") as scope:\n",
    "    train = tf.train.AdamOptimizer(learning_rate=learning_rate).minimize(cost)\n",
    "\n",
    "# Accuracy computation\n",
    "# Test model\n",
    "predicted = tf.arg_max(hypothesis, 1)\n",
    "is_correct = tf.equal(predicted, tf.arg_max(Y, 1))\n",
    "# Calculate accuracy\n",
    "accuracy = tf.reduce_mean(tf.cast(is_correct, tf.float32))\n",
    "accuracy_summ = tf.summary.scalar(\"accuracy\", accuracy)"
   ]
  },
  {
   "cell_type": "code",
   "execution_count": 5,
   "metadata": {
    "scrolled": false
   },
   "outputs": [
    {
     "name": "stdout",
     "output_type": "stream",
     "text": [
      "Epoch: 0001 cost = 0.105994591\n",
      "Epoch: 0002 cost = 0.042183271\n",
      "Epoch: 0003 cost = 0.035002096\n",
      "Epoch: 0004 cost = 0.030886373\n",
      "Epoch: 0005 cost = 0.027949949\n",
      "Epoch: 0006 cost = 0.025239897\n",
      "Epoch: 0007 cost = 0.023289077\n",
      "Epoch: 0008 cost = 0.021710141\n",
      "Epoch: 0009 cost = 0.021386293\n",
      "Epoch: 0010 cost = 0.020596234\n",
      "Epoch: 0011 cost = 0.019172555\n",
      "Epoch: 0012 cost = 0.018618995\n",
      "Epoch: 0013 cost = 0.017802729\n",
      "Epoch: 0014 cost = 0.017179774\n",
      "Epoch: 0015 cost = 0.016947400\n",
      "\n",
      "Hypothesis:  [[  1.21762796e-05   4.71701263e-04   2.80674605e-04 ...,   9.99835968e-01\n",
      "    3.24305552e-06   8.73393088e-04]\n",
      " [  3.09482130e-05   8.71593133e-03   9.94817555e-01 ...,   6.39166159e-04\n",
      "    3.62257153e-04   1.37416419e-06]\n",
      " [  6.22794118e-07   9.99606907e-01   6.33475502e-05 ...,   3.00480006e-03\n",
      "    8.21298818e-05   9.32381226e-06]\n",
      " ..., \n",
      " [  3.59301164e-04   5.36147330e-04   1.85340919e-04 ...,   7.12438952e-03\n",
      "    8.42644309e-04   3.27730831e-03]\n",
      " [  2.67433588e-05   1.79424082e-04   1.81667110e-06 ...,   9.33781208e-04\n",
      "    2.95545149e-04   3.64389707e-05]\n",
      " [  3.65910120e-04   1.42035633e-05   8.16867105e-05 ...,   9.45334477e-07\n",
      "    1.12920825e-04   2.58671821e-06]] \n",
      "Correct:  [7 2 1 ..., 4 5 6] \n",
      "Accuracy:  0.9572\n",
      "Label:  [9]\n",
      "Prediction:  [9]\n"
     ]
    },
    {
     "data": {
      "image/png": "[encoded data removed]",
      "text/plain": [
       "<matplotlib.figure.Figure at 0x7fd29d9c0320>"
      ]
     },
     "metadata": {},
     "output_type": "display_data"
    }
   ],
   "source": [
    "# Launch graph\n",
    "# parameters\n",
    "training_epochs = 15\n",
    "batch_size = 100\n",
    "\n",
    "with tf.Session() as sess:\n",
    "    \n",
    "    merged_summary = tf.summary.merge_all()\n",
    "    writer = tf.summary.FileWriter(\"./MNIST_logs/loss_r0_01\")\n",
    "    writer.add_graph(sess.graph)  # Show the graph\n",
    "    \n",
    "    # Initialize TensorFlow variables\n",
    "    sess.run(tf.global_variables_initializer())\n",
    "    step = 0\n",
    "    # Training cycle\n",
    "    for epoch in range(training_epochs):\n",
    "        avg_cost = 0\n",
    "        total_batch = int(mnist.train.num_examples / batch_size)\n",
    "\n",
    "        for i in range(total_batch):\n",
    "            batch_xs, batch_ys = mnist.train.next_batch(batch_size)\n",
    "            c, summary, _ = sess.run([cost, merged_summary, train], feed_dict={\n",
    "                            X: batch_xs, Y: batch_ys})\n",
    "            writer.add_summary(summary, global_step=step)\n",
    "            step += 1\n",
    "            avg_cost += c / total_batch\n",
    "\n",
    "        print('Epoch:', '%04d' % (epoch + 1), 'cost =', '{:.9f}'.format(avg_cost))\n",
    "\n",
    "    # Accuracy report\n",
    "    h, c, a = sess.run([hypothesis, predicted, accuracy],\n",
    "                       feed_dict={X: mnist.test.images, Y: mnist.test.labels})\n",
    "    print(\"\\nHypothesis: \", h, \"\\nCorrect: \", c, \"\\nAccuracy: \", a)\n",
    "    \n",
    "    # Get one and predict\n",
    "    r = random.randint(0, mnist.test.num_examples - 1)\n",
    "    print(\"Label: \", sess.run(tf.argmax(mnist.test.labels[r:r + 1], 1)))\n",
    "    print(\"Prediction: \", sess.run(\n",
    "        tf.argmax(hypothesis, 1), feed_dict={X: mnist.test.images[r:r + 1]}))\n",
    "\n",
    "    plt.imshow(\n",
    "        mnist.test.images[r:r + 1].reshape(28, 28),\n",
    "        cmap='Greys',\n",
    "        interpolation='nearest')\n",
    "    plt.show()"
   ]
  }
 ],
 "metadata": {
  "kernelspec": {
   "display_name": "tf-py3.5",
   "language": "python",
   "name": "tensorfllow"
  },
  "language_info": {
   "codemirror_mode": {
    "name": "ipython",
    "version": 3
   },
   "file_extension": ".py",
   "mimetype": "text/x-python",
   "name": "python",
   "nbconvert_exporter": "python",
   "pygments_lexer": "ipython3",
   "version": "3.5.4"
  }
 },
 "nbformat": 4,
 "nbformat_minor": 2
}
